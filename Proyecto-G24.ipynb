{
 "cells": [
  {
<<<<<<< HEAD
   "cell_type": "code",
   "execution_count": 1,
   "id": "6001abf4",
   "metadata": {},
   "outputs": [
    {
     "ename": "FileNotFoundError",
     "evalue": "[Errno 2] No such file or directory: './Criminalidad/Criminalidad/DELITOS_CONTRA_MEDIO_AMBIENTE.xlsx'",
     "output_type": "error",
     "traceback": [
      "\u001b[1;31m---------------------------------------------------------------------------\u001b[0m",
      "\u001b[1;31mFileNotFoundError\u001b[0m                         Traceback (most recent call last)",
      "Cell \u001b[1;32mIn[1], line 6\u001b[0m\n\u001b[0;32m      3\u001b[0m \u001b[38;5;28;01mimport\u001b[39;00m \u001b[38;5;21;01mpandas\u001b[39;00m \u001b[38;5;28;01mas\u001b[39;00m \u001b[38;5;21;01mpd\u001b[39;00m\n\u001b[0;32m      4\u001b[0m \u001b[38;5;28;01mimport\u001b[39;00m \u001b[38;5;21;01mnumpy\u001b[39;00m \u001b[38;5;28;01mas\u001b[39;00m \u001b[38;5;21;01mnp\u001b[39;00m\n\u001b[1;32m----> 6\u001b[0m df1 \u001b[38;5;241m=\u001b[39m \u001b[43mpd\u001b[49m\u001b[38;5;241;43m.\u001b[39;49m\u001b[43mread_excel\u001b[49m\u001b[43m(\u001b[49m\u001b[43mArchivos\u001b[49m\u001b[38;5;241;43m+\u001b[39;49m\u001b[38;5;124;43m\"\u001b[39;49m\u001b[38;5;124;43m/DELITOS_CONTRA_MEDIO_AMBIENTE.xlsx\u001b[39;49m\u001b[38;5;124;43m\"\u001b[39;49m\u001b[43m)\u001b[49m\n",
      "File \u001b[1;32mC:\\Miniconda3\\lib\\site-packages\\pandas\\io\\excel\\_base.py:478\u001b[0m, in \u001b[0;36mread_excel\u001b[1;34m(io, sheet_name, header, names, index_col, usecols, dtype, engine, converters, true_values, false_values, skiprows, nrows, na_values, keep_default_na, na_filter, verbose, parse_dates, date_parser, date_format, thousands, decimal, comment, skipfooter, storage_options, dtype_backend)\u001b[0m\n\u001b[0;32m    476\u001b[0m \u001b[38;5;28;01mif\u001b[39;00m \u001b[38;5;129;01mnot\u001b[39;00m \u001b[38;5;28misinstance\u001b[39m(io, ExcelFile):\n\u001b[0;32m    477\u001b[0m     should_close \u001b[38;5;241m=\u001b[39m \u001b[38;5;28;01mTrue\u001b[39;00m\n\u001b[1;32m--> 478\u001b[0m     io \u001b[38;5;241m=\u001b[39m \u001b[43mExcelFile\u001b[49m\u001b[43m(\u001b[49m\u001b[43mio\u001b[49m\u001b[43m,\u001b[49m\u001b[43m \u001b[49m\u001b[43mstorage_options\u001b[49m\u001b[38;5;241;43m=\u001b[39;49m\u001b[43mstorage_options\u001b[49m\u001b[43m,\u001b[49m\u001b[43m \u001b[49m\u001b[43mengine\u001b[49m\u001b[38;5;241;43m=\u001b[39;49m\u001b[43mengine\u001b[49m\u001b[43m)\u001b[49m\n\u001b[0;32m    479\u001b[0m \u001b[38;5;28;01melif\u001b[39;00m engine \u001b[38;5;129;01mand\u001b[39;00m engine \u001b[38;5;241m!=\u001b[39m io\u001b[38;5;241m.\u001b[39mengine:\n\u001b[0;32m    480\u001b[0m     \u001b[38;5;28;01mraise\u001b[39;00m \u001b[38;5;167;01mValueError\u001b[39;00m(\n\u001b[0;32m    481\u001b[0m         \u001b[38;5;124m\"\u001b[39m\u001b[38;5;124mEngine should not be specified when passing \u001b[39m\u001b[38;5;124m\"\u001b[39m\n\u001b[0;32m    482\u001b[0m         \u001b[38;5;124m\"\u001b[39m\u001b[38;5;124man ExcelFile - ExcelFile already has the engine set\u001b[39m\u001b[38;5;124m\"\u001b[39m\n\u001b[0;32m    483\u001b[0m     )\n",
      "File \u001b[1;32mC:\\Miniconda3\\lib\\site-packages\\pandas\\io\\excel\\_base.py:1496\u001b[0m, in \u001b[0;36mExcelFile.__init__\u001b[1;34m(self, path_or_buffer, engine, storage_options)\u001b[0m\n\u001b[0;32m   1494\u001b[0m     ext \u001b[38;5;241m=\u001b[39m \u001b[38;5;124m\"\u001b[39m\u001b[38;5;124mxls\u001b[39m\u001b[38;5;124m\"\u001b[39m\n\u001b[0;32m   1495\u001b[0m \u001b[38;5;28;01melse\u001b[39;00m:\n\u001b[1;32m-> 1496\u001b[0m     ext \u001b[38;5;241m=\u001b[39m \u001b[43minspect_excel_format\u001b[49m\u001b[43m(\u001b[49m\n\u001b[0;32m   1497\u001b[0m \u001b[43m        \u001b[49m\u001b[43mcontent_or_path\u001b[49m\u001b[38;5;241;43m=\u001b[39;49m\u001b[43mpath_or_buffer\u001b[49m\u001b[43m,\u001b[49m\u001b[43m \u001b[49m\u001b[43mstorage_options\u001b[49m\u001b[38;5;241;43m=\u001b[39;49m\u001b[43mstorage_options\u001b[49m\n\u001b[0;32m   1498\u001b[0m \u001b[43m    \u001b[49m\u001b[43m)\u001b[49m\n\u001b[0;32m   1499\u001b[0m     \u001b[38;5;28;01mif\u001b[39;00m ext \u001b[38;5;129;01mis\u001b[39;00m \u001b[38;5;28;01mNone\u001b[39;00m:\n\u001b[0;32m   1500\u001b[0m         \u001b[38;5;28;01mraise\u001b[39;00m \u001b[38;5;167;01mValueError\u001b[39;00m(\n\u001b[0;32m   1501\u001b[0m             \u001b[38;5;124m\"\u001b[39m\u001b[38;5;124mExcel file format cannot be determined, you must specify \u001b[39m\u001b[38;5;124m\"\u001b[39m\n\u001b[0;32m   1502\u001b[0m             \u001b[38;5;124m\"\u001b[39m\u001b[38;5;124man engine manually.\u001b[39m\u001b[38;5;124m\"\u001b[39m\n\u001b[0;32m   1503\u001b[0m         )\n",
      "File \u001b[1;32mC:\\Miniconda3\\lib\\site-packages\\pandas\\io\\excel\\_base.py:1371\u001b[0m, in \u001b[0;36minspect_excel_format\u001b[1;34m(content_or_path, storage_options)\u001b[0m\n\u001b[0;32m   1368\u001b[0m \u001b[38;5;28;01mif\u001b[39;00m \u001b[38;5;28misinstance\u001b[39m(content_or_path, \u001b[38;5;28mbytes\u001b[39m):\n\u001b[0;32m   1369\u001b[0m     content_or_path \u001b[38;5;241m=\u001b[39m BytesIO(content_or_path)\n\u001b[1;32m-> 1371\u001b[0m \u001b[38;5;28;01mwith\u001b[39;00m \u001b[43mget_handle\u001b[49m\u001b[43m(\u001b[49m\n\u001b[0;32m   1372\u001b[0m \u001b[43m    \u001b[49m\u001b[43mcontent_or_path\u001b[49m\u001b[43m,\u001b[49m\u001b[43m \u001b[49m\u001b[38;5;124;43m\"\u001b[39;49m\u001b[38;5;124;43mrb\u001b[39;49m\u001b[38;5;124;43m\"\u001b[39;49m\u001b[43m,\u001b[49m\u001b[43m \u001b[49m\u001b[43mstorage_options\u001b[49m\u001b[38;5;241;43m=\u001b[39;49m\u001b[43mstorage_options\u001b[49m\u001b[43m,\u001b[49m\u001b[43m \u001b[49m\u001b[43mis_text\u001b[49m\u001b[38;5;241;43m=\u001b[39;49m\u001b[38;5;28;43;01mFalse\u001b[39;49;00m\n\u001b[0;32m   1373\u001b[0m \u001b[43m\u001b[49m\u001b[43m)\u001b[49m \u001b[38;5;28;01mas\u001b[39;00m handle:\n\u001b[0;32m   1374\u001b[0m     stream \u001b[38;5;241m=\u001b[39m handle\u001b[38;5;241m.\u001b[39mhandle\n\u001b[0;32m   1375\u001b[0m     stream\u001b[38;5;241m.\u001b[39mseek(\u001b[38;5;241m0\u001b[39m)\n",
      "File \u001b[1;32mC:\\Miniconda3\\lib\\site-packages\\pandas\\io\\common.py:868\u001b[0m, in \u001b[0;36mget_handle\u001b[1;34m(path_or_buf, mode, encoding, compression, memory_map, is_text, errors, storage_options)\u001b[0m\n\u001b[0;32m    859\u001b[0m         handle \u001b[38;5;241m=\u001b[39m \u001b[38;5;28mopen\u001b[39m(\n\u001b[0;32m    860\u001b[0m             handle,\n\u001b[0;32m    861\u001b[0m             ioargs\u001b[38;5;241m.\u001b[39mmode,\n\u001b[1;32m   (...)\u001b[0m\n\u001b[0;32m    864\u001b[0m             newline\u001b[38;5;241m=\u001b[39m\u001b[38;5;124m\"\u001b[39m\u001b[38;5;124m\"\u001b[39m,\n\u001b[0;32m    865\u001b[0m         )\n\u001b[0;32m    866\u001b[0m     \u001b[38;5;28;01melse\u001b[39;00m:\n\u001b[0;32m    867\u001b[0m         \u001b[38;5;66;03m# Binary mode\u001b[39;00m\n\u001b[1;32m--> 868\u001b[0m         handle \u001b[38;5;241m=\u001b[39m \u001b[38;5;28;43mopen\u001b[39;49m\u001b[43m(\u001b[49m\u001b[43mhandle\u001b[49m\u001b[43m,\u001b[49m\u001b[43m \u001b[49m\u001b[43mioargs\u001b[49m\u001b[38;5;241;43m.\u001b[39;49m\u001b[43mmode\u001b[49m\u001b[43m)\u001b[49m\n\u001b[0;32m    869\u001b[0m     handles\u001b[38;5;241m.\u001b[39mappend(handle)\n\u001b[0;32m    871\u001b[0m \u001b[38;5;66;03m# Convert BytesIO or file objects passed with an encoding\u001b[39;00m\n",
      "\u001b[1;31mFileNotFoundError\u001b[0m: [Errno 2] No such file or directory: './Criminalidad/Criminalidad/DELITOS_CONTRA_MEDIO_AMBIENTE.xlsx'"
     ]
    }
   ],
=======
   "cell_type": "markdown",
   "metadata": {},
   "source": [
    "# PROYECTO G24"
   ]
  },
  {
   "cell_type": "markdown",
   "metadata": {},
   "source": [
    "## Equipo de Trabajo"
   ]
  },
  {
   "cell_type": "markdown",
   "metadata": {},
   "source": [
    "El equipo de trabajo está conformado por:\n",
    "<ul>\n",
    "<li> Wilson Andrey Lopez Ariza </li>\n",
    "<li> Juan Manuel Guerrero Fonseca </li>\n",
    "<li> Carlos Sebastian Gomez Ortiz </li>\n",
    "<li> Jeison David Díaz Espitia </li>\n",
    "</ul>"
   ]
  },
  {
   "cell_type": "markdown",
   "metadata": {},
   "source": [
    "## Exploración de posibles problemas"
   ]
  },
  {
   "cell_type": "markdown",
   "metadata": {},
   "source": [
    "Hay algunas posibles exploraciones de problemas comunes que podríamos encontrar:\n",
    "\n",
    "1. Sesgo en la Recopilación de Datos: Los datos de delitos a menudo se recopilan a través de informes policiales y otras fuentes. Pueden existir sesgos en la forma en que se registran o informan los delitos, lo que podría llevar a una representación inexacta de la verdadera incidencia del crimen en una área. Adicionalmente, se debe tener en cuenta que los registros consolidan únicamente los delitos denunciados.\n",
    "\n",
    "2. Falta de Uniformidad en la Clasificación de Delitos: La clasificación de delitos puede variar entre diferentes jurisdicciones o agencias policiales. Esto puede dificultar la comparación de datos de diferentes áreas.\n",
    "\n",
    "3. Datos Faltantes o Incompletos: Los datos de delitos pueden tener valores faltantes o registros incompletos, lo que puede afectar la precisión del análisis. Únicamente se contemplan los delitos denunciados, lo que implica que existe una cifra oculta que corresponde a delitos no denunciados.\n",
    "\n",
    "4. Sesgo Geográfico: Los delitos pueden estar concentrados en ciertas áreas geográficas, lo que podría llevar a un sesgo espacial en los datos.\n",
    "\n",
    "5. Cambios en la forma de medición de los delitos: Cambios en la forma de medición en los sistemas de información, interoperabilidad con otros sistemas de información pueden afectar la forma en que se registran o informan los delitos con el tiempo, lo que requiere considerar estos cambios al analizar tendencias.\n",
    "\n",
    "6. Sesgo Étnico o Racial: Es importante tener en cuenta la posibilidad de sesgo étnico o racial en la recopilación y el procesamiento de datos de delitos, lo que podría afectar el tratamiento de diferentes grupos de población.\n",
    "\n",
    "7. Confidencialidad y Privacidad: Al trabajar con datos de delitos, es importante respetar la confidencialidad y la privacidad de las personas involucradas en los incidentes. La divulgación indebida de información sensible podría plantear problemas legales y éticos. La información publicada se encuentra anonimizada.\n",
    "\n",
    "8. Subregistro de Delitos: Algunos delitos pueden no informarse o registrarse, lo que crea un subregistro en los datos. Esto puede llevar a una subestimación de la verdadera incidencia del crimen.\n",
    "\n",
    "9. Manipulación de Datos: Existe la posibilidad de que los datos de delitos se manipulen o se presenten de manera engañosa, lo que podría generar resultados inexactos en el análisis.\n",
    "\n",
    "10. Sesgo Temporal: Los delitos pueden mostrar patrones estacionales o variaciones temporales. Es importante considerar estos patrones al interpretar los datos.\n",
    "\n",
    "Al abordar estos posibles problemas, es fundamental realizar un análisis cuidadoso y transparente, documentar cualquier suposición o transformación de datos, y considerar las limitaciones de los datos en cualquier conclusión o recomendación que se haga. Además, es esencial seguir prácticas éticas y legales en la gestión y el análisis de datos de delitos."
   ]
  },
  {
   "cell_type": "markdown",
   "metadata": {},
   "source": [
    "## Pregunta de Negocio"
   ]
  },
  {
   "cell_type": "markdown",
   "metadata": {},
   "source": [
    "¿Cuáles son las tendencias, variaciones estacionales, diferencias entre ciudades y correlaciones en las tasas de criminalidad de los entre 2003 y 2023 en las 5 principales ciudades (Bogotá, Medellín, Cali, Barranquilla y Cartagena), que permiten identificar patrones y posibles factores explicativos para caracterizar la evolución de la violencia y la inseguridad en las grandes ciudades colombianas durante las últimas dos décadas?"
   ]
  },
  {
   "cell_type": "markdown",
   "metadata": {},
   "source": [
    "## Alcance del proyecto"
   ]
  },
  {
   "cell_type": "markdown",
   "metadata": {},
   "source": [
    "El proyecto busca analizar la evolución entre 2003 y 2023 de las tasas de criminalidad en los delitos de homicidio, hurto a personas y comercio, y lesiones personales en las 5 ciudades principales: Bogotá, Medellín, Cali, Barranquilla y Cartagena. \n",
    "    \n",
    "   El objetivo es identificar en estas ciudades las tendencias crecientes o decrecientes en las tasas de criminalidad, sus patrones estacionales y las diferencias entre ellas, para caracterizar y entender mejor el comportamiento de la violencia y la inseguridad urbana en las principales metrópolis colombianas. Esto se logrará mediante el procesamiento estadístico de los registros de criminalidad disponibles."
   ]
  },
  {
   "cell_type": "markdown",
   "metadata": {},
   "source": [
    "## Conjunto de Datos"
   ]
  },
  {
   "cell_type": "markdown",
   "metadata": {},
   "source": [
    "Para nuestro conjunto de datos tenemos 12 archivos xlsx los cuales contienen separados los tipos de delitos y dentro de cada uno se encuentran los registros de los eventos ocurridos, donde estan caracterizados por municipio, departamento, fecha y especificiadad del delito ocurrido. \n",
    "\n",
    "La información es recolectada a partir de archivos en formato xlsx los cuales han sido descargados\n",
    "por los investigadores del proyecto. Los delitos contemplados son los siguientes:\n",
    "1. Homicidios: Hom\n",
    "2. Hurtos a personas: Hper\n",
    "3. Hurtos a residencias: Hres\n",
    "4. Hurtos a comercio: Hcio\n",
    "5. Hurtos a vehículos: Hveh\n",
    "6. Lesiones personales: Les\n",
    "7. Delitos sexuales: Dsex\n",
    "8. Extorsión: Ext\n",
    "9. Violencia intrafamiliar: Vif\n",
    "10. Secuestro: Sec\n",
    "11. Delitos contra el medio ambiente: Dma\n",
    "12. Homicidios en accidentes de tránsito: Homat\n",
    "13. Lesiones en accidentes de tránsito: Lesat\n",
    "\n",
    "Las bases de datos contienen información de los delitos denunciados en los municipios de Colombia,\n",
    "cada archivo representa la cantidad de delitos denunciados entre enero de 2003 y agosto de 2023. La\n",
    "nomenclatura seguida para el almacenamiento de estos archivos es:\n",
    "\n",
    "Nombre_Corto_Delito_2003_2023\n",
    "\n",
    "Donde el campo de nombre corto es remplazado por el nombre corto de cada delito.\n",
    "Adicionalmente, todos estos archivos están almacenados dentro de la carpeta Criminalidad.\n",
    "Los datos de las ciudades de interés vienen en un solo archivo con toda la información.\n",
    "\n",
    "Este es llamado Criminalidad_total.xlsx"
   ]
  },
  {
   "cell_type": "markdown",
   "metadata": {},
   "source": [
    "## ¿Cómo responder a la pregunta de negocio?"
   ]
  },
  {
   "cell_type": "markdown",
   "metadata": {},
   "source": [
    "Responder a esta pregunta requerirá un análisis exhaustivo de los datos de delitos y una comprensión profunda de los factores subyacentes. Aquí hay una estructura general para abordar esta pregunta:\n",
    "\n",
    "1. Análisis de Datos y Tendencias a lo Largo de Dos Décadas:\n",
    "    Recopilación y análisis de datos de delitos a lo largo de los últimos 20 años para identificar tendencias clave. Esto incluirá la identificación de cambios en la tasa de delitos, tipos de delitos más comunes, y patrones estacionales o geográficos.\n",
    "\n",
    "2. Factores que Influyen en las Tendencias:\n",
    "    Identificación de los factores que influyen en las tendencias de delitos. Esto podría incluir cambios demográficos, fluctuaciones económicas, políticas de seguridad pública, avances tecnológicos y otros factores sociales y económicos.\n",
    "    \n",
    "3. Identificación de Tendencias Positivas y Negativas:\n",
    "    Destacar tanto las tendencias positivas (por ejemplo, disminución de la delincuencia) como las negativas (por ejemplo, aumento de la delincuencia) a lo largo del tiempo.\n",
    "    \n",
    "4. Impacto en las Políticas de Seguridad Ciudadana:\n",
    "    Evaluar cómo estas tendencias pasadas pueden mejorar la toma de decisiones en materia de política pública relacionada con seguridad ciudadana. Por ejemplo, si se observa una disminución de la delincuencia, ¿qué estrategias de prevención funcionaron y podrían aplicarse en el futuro?\n",
    "    \n",
    "5. Evaluación de Estrategias Actuales:\n",
    "    Examinar las estrategias de seguridad ciudadana y prevención actuales a la luz de las tendencias pasadas. ¿Están las políticas actuales alineadas con las necesidades y desafíos actuales o es necesario realizar ajustes?\n",
    "    \n",
    "6. Recomendaciones para el Futuro:\n",
    "    Basándose en el análisis, proporcionar recomendaciones específicas para las políticas de seguridad ciudadana y estrategias de prevención en el futuro. Esto podría incluir sugerencias sobre asignación de recursos, enfoque en áreas geográficas específicas, programas de intervención, etc.\n",
    "    \n",
    "7. Comunicación de Resultados:\n",
    "    Comunicar los hallazgos de manera clara y efectiva a los responsables de la toma de decisiones, la comunidad y otros interesados relevantes.\n",
    "    \n",
    "8. Seguimiento y Evaluación Continua:\n",
    "    Proporcionar recomendaciones para la implementación de políticas de seguridad ciudadana y estrategias de prevención, así como sugerir la implementación de un sistema de seguimiento y evaluación continua para medir el impacto de estas políticas en el futuro.\n",
    "    \n",
    "    \n",
    "El análisis de tendencias de delitos es un proceso complejo que requiere datos confiables y una comprensión sólida del contexto social y económico. Además, es fundamental involucrar a expertos en criminología, sociología y otras disciplinas pertinentes para garantizar una evaluación completa y precisa.\n",
    "\n",
    "\n",
    "\n",
    "\n",
    "\n"
   ]
  },
  {
   "cell_type": "markdown",
   "metadata": {},
   "source": [
    "## Maqueta inicial del prototipo"
   ]
  },
  {
   "cell_type": "markdown",
   "metadata": {},
   "source": [
    "![image.png](Maqueta/maqueta.drawio.png)\n",
    "El usuario podrá interactuar con el tablero observando la información a través de filtros por tipo de delito, por ciudad, por año; podrá ver el comportamiento histórico, las zonas o sectores más peligrosos según el delito, la distribución de los tipos de delito según los filtros realizados, etc.\n",
    "Podrá encontrar toda la analítica descriptiva de la información.\n"
   ]
  },
  {
   "cell_type": "markdown",
   "metadata": {},
   "source": [
    "## DVC"
   ]
  },
  {
   "cell_type": "markdown",
   "metadata": {},
   "source": [
    "Usando un versionamiento de datos DVC para el proyecto como herramienta complementaria a Git, se puede mantener un control completo sobre los datos y modelos. Para el proyecto en curso sobre Criminalidad, se puede observar la estructura DVC del repositorio del equipo:\n",
    "\n",
    "![image.png](img/estructura_dvc.png)\n",
    "\n",
    "Adicional, y con el propósito de usar un medio para guardar la información, se procede a usar Google Drive como fuente de datos, donde se han dispuesto los 14 archivos de Excel que se usan en el análisis. Para ello se usa el comando `dvc remote` y se realiza `dvc push`:\n",
    "\n",
    "![image.png](img/gdrive.png)\n",
    "\n",
    "![image.png](img/dvc_push.png)\n",
    "\n",
    "En Google Drive se ha creado lo siguiente:\n",
    "\n",
    "![image.png](img/gdrive_screen.png)\n",
    "\n",
    "Finalmente se clona el repositorio en otra ubicación y se comprueba con `dvc pull` que todo funcione correctamente:\n",
    "\n",
    "![image.png](img/git_clone.png)\n",
    "\n",
    "![image.png](img/test_dvc_pull.png)"
   ]
  },
  {
   "cell_type": "markdown",
   "metadata": {},
   "source": [
    "## Exploración de datos"
   ]
  },
  {
   "cell_type": "code",
   "execution_count": null,
   "metadata": {},
   "outputs": [],
>>>>>>> 415145766f57a4b4efa906bb8da04e3d6acfdab9
   "source": [
    "Archivos = \"./Criminalidad/Criminalidad\"\n",
    "\n",
    "import pandas as pd\n",
    "import numpy as np\n",
    "\n",
    "df1 = pd.read_excel(Archivos+\"/DELITOS_CONTRA_MEDIO_AMBIENTE.xlsx\")"
   ]
  },
  {
   "cell_type": "code",
   "execution_count": null,
<<<<<<< HEAD
   "id": "df6bbd68",
=======
   "metadata": {},
   "outputs": [
    {
     "data": {
      "text/html": [
       "<div>\n",
       "<style scoped>\n",
       "    .dataframe tbody tr th:only-of-type {\n",
       "        vertical-align: middle;\n",
       "    }\n",
       "\n",
       "    .dataframe tbody tr th {\n",
       "        vertical-align: top;\n",
       "    }\n",
       "\n",
       "    .dataframe thead th {\n",
       "        text-align: right;\n",
       "    }\n",
       "</style>\n",
       "<table border=\"1\" class=\"dataframe\">\n",
       "  <thead>\n",
       "    <tr style=\"text-align: right;\">\n",
       "      <th></th>\n",
       "      <th>FECHA HECHO</th>\n",
       "      <th>COD_DEPTO</th>\n",
       "      <th>DEPARTAMENTO</th>\n",
       "      <th>COD_MUNI</th>\n",
       "      <th>MUNICIPIO</th>\n",
       "      <th>DESCRIPCION CONDUCTA</th>\n",
       "      <th>ZONA</th>\n",
       "      <th>CANTIDAD</th>\n",
       "    </tr>\n",
       "  </thead>\n",
       "  <tbody>\n",
       "    <tr>\n",
       "      <th>0</th>\n",
       "      <td>2003-01-01</td>\n",
       "      <td>5</td>\n",
       "      <td>ANTIOQUIA</td>\n",
       "      <td>5120</td>\n",
       "      <td>CACERES</td>\n",
       "      <td>ARTÍCULO 336. CAZA ILEGAL</td>\n",
       "      <td>URBANA</td>\n",
       "      <td>1</td>\n",
       "    </tr>\n",
       "    <tr>\n",
       "      <th>1</th>\n",
       "      <td>2003-01-02</td>\n",
       "      <td>5</td>\n",
       "      <td>ANTIOQUIA</td>\n",
       "      <td>5250</td>\n",
       "      <td>EL BAGRE</td>\n",
       "      <td>ARTÍCULO 328. ILÍCITO APROVECHAMIENTO DE LOS R...</td>\n",
       "      <td>URBANA</td>\n",
       "      <td>1</td>\n",
       "    </tr>\n",
       "    <tr>\n",
       "      <th>2</th>\n",
       "      <td>2003-01-03</td>\n",
       "      <td>5</td>\n",
       "      <td>ANTIOQUIA</td>\n",
       "      <td>5142</td>\n",
       "      <td>CARACOLI</td>\n",
       "      <td>ARTÍCULO 328. ILÍCITO APROVECHAMIENTO DE LOS R...</td>\n",
       "      <td>URBANA</td>\n",
       "      <td>1</td>\n",
       "    </tr>\n",
       "    <tr>\n",
       "      <th>3</th>\n",
       "      <td>2003-01-03</td>\n",
       "      <td>5</td>\n",
       "      <td>ANTIOQUIA</td>\n",
       "      <td>5154</td>\n",
       "      <td>CAUCASIA</td>\n",
       "      <td>ARTÍCULO 328. ILÍCITO APROVECHAMIENTO DE LOS R...</td>\n",
       "      <td>URBANA</td>\n",
       "      <td>1</td>\n",
       "    </tr>\n",
       "    <tr>\n",
       "      <th>4</th>\n",
       "      <td>2003-01-03</td>\n",
       "      <td>5</td>\n",
       "      <td>ANTIOQUIA</td>\n",
       "      <td>5390</td>\n",
       "      <td>LA PINTADA</td>\n",
       "      <td>ARTÍCULO 336. CAZA ILEGAL</td>\n",
       "      <td>URBANA</td>\n",
       "      <td>1</td>\n",
       "    </tr>\n",
       "  </tbody>\n",
       "</table>\n",
       "</div>"
      ],
      "text/plain": [
       "  FECHA HECHO  COD_DEPTO DEPARTAMENTO  COD_MUNI   MUNICIPIO  \\\n",
       "0  2003-01-01          5    ANTIOQUIA      5120     CACERES   \n",
       "1  2003-01-02          5    ANTIOQUIA      5250    EL BAGRE   \n",
       "2  2003-01-03          5    ANTIOQUIA      5142    CARACOLI   \n",
       "3  2003-01-03          5    ANTIOQUIA      5154    CAUCASIA   \n",
       "4  2003-01-03          5    ANTIOQUIA      5390  LA PINTADA   \n",
       "\n",
       "                                DESCRIPCION CONDUCTA    ZONA  CANTIDAD  \n",
       "0                          ARTÍCULO 336. CAZA ILEGAL  URBANA         1  \n",
       "1  ARTÍCULO 328. ILÍCITO APROVECHAMIENTO DE LOS R...  URBANA         1  \n",
       "2  ARTÍCULO 328. ILÍCITO APROVECHAMIENTO DE LOS R...  URBANA         1  \n",
       "3  ARTÍCULO 328. ILÍCITO APROVECHAMIENTO DE LOS R...  URBANA         1  \n",
       "4                          ARTÍCULO 336. CAZA ILEGAL  URBANA         1  "
      ]
     },
     "execution_count": 16,
     "metadata": {},
     "output_type": "execute_result"
    }
   ],
   "source": [
    "df1.head()"
   ]
  },
  {
   "cell_type": "code",
   "execution_count": null,
   "metadata": {},
   "outputs": [
    {
     "name": "stdout",
     "output_type": "stream",
     "text": [
      "<class 'pandas.core.frame.DataFrame'>\n",
      "RangeIndex: 69108 entries, 0 to 69107\n",
      "Data columns (total 8 columns):\n",
      " #   Column                Non-Null Count  Dtype         \n",
      "---  ------                --------------  -----         \n",
      " 0   FECHA HECHO           69108 non-null  datetime64[ns]\n",
      " 1   COD_DEPTO             69108 non-null  int64         \n",
      " 2   DEPARTAMENTO          69108 non-null  object        \n",
      " 3   COD_MUNI              69108 non-null  int64         \n",
      " 4   MUNICIPIO             69108 non-null  object        \n",
      " 5   DESCRIPCION CONDUCTA  69108 non-null  object        \n",
      " 6   ZONA                  69108 non-null  object        \n",
      " 7   CANTIDAD              69108 non-null  int64         \n",
      "dtypes: datetime64[ns](1), int64(3), object(4)\n",
      "memory usage: 4.2+ MB\n"
     ]
    }
   ],
   "source": [
    "df1.info()"
   ]
  },
  {
   "cell_type": "code",
   "execution_count": null,
   "metadata": {},
   "outputs": [
    {
     "data": {
      "text/html": [
       "<div>\n",
       "<style scoped>\n",
       "    .dataframe tbody tr th:only-of-type {\n",
       "        vertical-align: middle;\n",
       "    }\n",
       "\n",
       "    .dataframe tbody tr th {\n",
       "        vertical-align: top;\n",
       "    }\n",
       "\n",
       "    .dataframe thead th {\n",
       "        text-align: right;\n",
       "    }\n",
       "</style>\n",
       "<table border=\"1\" class=\"dataframe\">\n",
       "  <thead>\n",
       "    <tr style=\"text-align: right;\">\n",
       "      <th></th>\n",
       "      <th>COD_DEPTO</th>\n",
       "      <th>COD_MUNI</th>\n",
       "      <th>CANTIDAD</th>\n",
       "    </tr>\n",
       "  </thead>\n",
       "  <tbody>\n",
       "    <tr>\n",
       "      <th>count</th>\n",
       "      <td>69108.000000</td>\n",
       "      <td>69108.000000</td>\n",
       "      <td>69108.000000</td>\n",
       "    </tr>\n",
       "    <tr>\n",
       "      <th>mean</th>\n",
       "      <td>33.029779</td>\n",
       "      <td>33377.227658</td>\n",
       "      <td>1.140736</td>\n",
       "    </tr>\n",
       "    <tr>\n",
       "      <th>std</th>\n",
       "      <td>27.666777</td>\n",
       "      <td>27632.542931</td>\n",
       "      <td>0.669212</td>\n",
       "    </tr>\n",
       "    <tr>\n",
       "      <th>min</th>\n",
       "      <td>5.000000</td>\n",
       "      <td>5001.000000</td>\n",
       "      <td>1.000000</td>\n",
       "    </tr>\n",
       "    <tr>\n",
       "      <th>25%</th>\n",
       "      <td>11.000000</td>\n",
       "      <td>11001.000000</td>\n",
       "      <td>1.000000</td>\n",
       "    </tr>\n",
       "    <tr>\n",
       "      <th>50%</th>\n",
       "      <td>20.000000</td>\n",
       "      <td>20383.000000</td>\n",
       "      <td>1.000000</td>\n",
       "    </tr>\n",
       "    <tr>\n",
       "      <th>75%</th>\n",
       "      <td>54.000000</td>\n",
       "      <td>54518.000000</td>\n",
       "      <td>1.000000</td>\n",
       "    </tr>\n",
       "    <tr>\n",
       "      <th>max</th>\n",
       "      <td>99.000000</td>\n",
       "      <td>99773.000000</td>\n",
       "      <td>24.000000</td>\n",
       "    </tr>\n",
       "  </tbody>\n",
       "</table>\n",
       "</div>"
      ],
      "text/plain": [
       "          COD_DEPTO      COD_MUNI      CANTIDAD\n",
       "count  69108.000000  69108.000000  69108.000000\n",
       "mean      33.029779  33377.227658      1.140736\n",
       "std       27.666777  27632.542931      0.669212\n",
       "min        5.000000   5001.000000      1.000000\n",
       "25%       11.000000  11001.000000      1.000000\n",
       "50%       20.000000  20383.000000      1.000000\n",
       "75%       54.000000  54518.000000      1.000000\n",
       "max       99.000000  99773.000000     24.000000"
      ]
     },
     "execution_count": 9,
     "metadata": {},
     "output_type": "execute_result"
    }
   ],
   "source": [
    "df1.describe()"
   ]
  },
  {
   "cell_type": "code",
   "execution_count": null,
   "metadata": {},
   "outputs": [],
   "source": [
    "a = df1.shape"
   ]
  },
  {
   "cell_type": "code",
   "execution_count": null,
   "metadata": {},
   "outputs": [
    {
     "name": "stdout",
     "output_type": "stream",
     "text": [
      "Tenemos 69108 delitos reportados para este dataframe y 8 variables de estos delitos\n"
     ]
    }
   ],
   "source": [
    "print(\"Tenemos \"+str(a[0])+\" delitos reportados para este dataframe y \"+ str(a[1])+\" variables de estos delitos\")"
   ]
  },
  {
   "cell_type": "code",
   "execution_count": null,
   "metadata": {},
   "outputs": [
    {
     "data": {
      "text/plain": [
       "FECHA HECHO             0\n",
       "COD_DEPTO               0\n",
       "DEPARTAMENTO            0\n",
       "COD_MUNI                0\n",
       "MUNICIPIO               0\n",
       "DESCRIPCION CONDUCTA    0\n",
       "ZONA                    0\n",
       "CANTIDAD                0\n",
       "dtype: int64"
      ]
     },
     "execution_count": 17,
     "metadata": {},
     "output_type": "execute_result"
    }
   ],
   "source": [
    "df1.isnull().sum()"
   ]
  },
  {
   "cell_type": "markdown",
   "metadata": {},
   "source": [
    "Podemos observar que no tenemos datos nulos, por lo que no tenemos de momento una transformación "
   ]
  },
  {
   "cell_type": "code",
   "execution_count": null,
   "metadata": {},
   "outputs": [
    {
     "data": {
      "image/png": "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",
      "text/plain": [
       "<Figure size 720x432 with 1 Axes>"
      ]
     },
     "metadata": {
      "needs_background": "light"
     },
     "output_type": "display_data"
    }
   ],
   "source": [
    "import matplotlib.pyplot as plt\n",
    "\n",
    "# Replace 'column_name' with the name of the numerical column\n",
    "plt.figure(figsize=(10,6))\n",
    "plt.hist(df1['DEPARTAMENTO'])\n",
    "plt.xticks(rotation='vertical')\n",
    "plt.xlabel('Values')\n",
    "plt.ylabel('Frequency')\n",
    "plt.title('Histograma de Departamento')\n",
    "plt.show()"
   ]
  },
  {
   "cell_type": "code",
   "execution_count": null,
   "metadata": {},
   "outputs": [
    {
     "name": "stdout",
     "output_type": "stream",
     "text": [
      "Los datos recolectados para este dataset vienen desde 2003-01-01 hasta 2023-09-30\n"
     ]
    }
   ],
   "source": [
    "print(\"Los datos recolectados para este dataset vienen desde \"+str(df1[\"FECHA HECHO\"].min().date())+ \" hasta \"+str(df1[\"FECHA HECHO\"].max().date()))"
   ]
  },
  {
   "cell_type": "markdown",
   "metadata": {},
   "source": [
    "### Dataset 2"
   ]
  },
  {
   "cell_type": "code",
   "execution_count": null,
   "metadata": {},
   "outputs": [
    {
     "data": {
      "text/html": [
       "<div>\n",
       "<style scoped>\n",
       "    .dataframe tbody tr th:only-of-type {\n",
       "        vertical-align: middle;\n",
       "    }\n",
       "\n",
       "    .dataframe tbody tr th {\n",
       "        vertical-align: top;\n",
       "    }\n",
       "\n",
       "    .dataframe thead th {\n",
       "        text-align: right;\n",
       "    }\n",
       "</style>\n",
       "<table border=\"1\" class=\"dataframe\">\n",
       "  <thead>\n",
       "    <tr style=\"text-align: right;\">\n",
       "      <th></th>\n",
       "      <th>FECHA HECHO</th>\n",
       "      <th>COD_DEPTO</th>\n",
       "      <th>DEPARTAMENTO</th>\n",
       "      <th>COD_MUNI</th>\n",
       "      <th>MUNICIPIO</th>\n",
       "      <th>ZONA</th>\n",
       "      <th>SEXO</th>\n",
       "      <th>CANTIDAD</th>\n",
       "    </tr>\n",
       "  </thead>\n",
       "  <tbody>\n",
       "    <tr>\n",
       "      <th>0</th>\n",
       "      <td>2003-01-01</td>\n",
       "      <td>8</td>\n",
       "      <td>ATLÁNTICO</td>\n",
       "      <td>8758</td>\n",
       "      <td>SOLEDAD</td>\n",
       "      <td>URBANA</td>\n",
       "      <td>FEMENINO</td>\n",
       "      <td>1</td>\n",
       "    </tr>\n",
       "    <tr>\n",
       "      <th>1</th>\n",
       "      <td>2003-01-01</td>\n",
       "      <td>13</td>\n",
       "      <td>BOLÍVAR</td>\n",
       "      <td>13836</td>\n",
       "      <td>TURBACO</td>\n",
       "      <td>RURAL</td>\n",
       "      <td>FEMENINO</td>\n",
       "      <td>1</td>\n",
       "    </tr>\n",
       "    <tr>\n",
       "      <th>2</th>\n",
       "      <td>2003-01-01</td>\n",
       "      <td>18</td>\n",
       "      <td>CAQUETÁ</td>\n",
       "      <td>18001</td>\n",
       "      <td>FLORENCIA</td>\n",
       "      <td>URBANA</td>\n",
       "      <td>FEMENINO</td>\n",
       "      <td>1</td>\n",
       "    </tr>\n",
       "    <tr>\n",
       "      <th>3</th>\n",
       "      <td>2003-01-01</td>\n",
       "      <td>19</td>\n",
       "      <td>CAUCA</td>\n",
       "      <td>19001</td>\n",
       "      <td>POPAYAN</td>\n",
       "      <td>URBANA</td>\n",
       "      <td>MASCULINO</td>\n",
       "      <td>1</td>\n",
       "    </tr>\n",
       "    <tr>\n",
       "      <th>4</th>\n",
       "      <td>2003-01-01</td>\n",
       "      <td>11</td>\n",
       "      <td>BOGOTÁ D.C.</td>\n",
       "      <td>11001</td>\n",
       "      <td>BOGOTA, D.C.</td>\n",
       "      <td>URBANA</td>\n",
       "      <td>FEMENINO</td>\n",
       "      <td>7</td>\n",
       "    </tr>\n",
       "  </tbody>\n",
       "</table>\n",
       "</div>"
      ],
      "text/plain": [
       "  FECHA HECHO  COD_DEPTO DEPARTAMENTO  COD_MUNI     MUNICIPIO    ZONA  \\\n",
       "0  2003-01-01          8    ATLÁNTICO      8758       SOLEDAD  URBANA   \n",
       "1  2003-01-01         13      BOLÍVAR     13836       TURBACO   RURAL   \n",
       "2  2003-01-01         18      CAQUETÁ     18001     FLORENCIA  URBANA   \n",
       "3  2003-01-01         19        CAUCA     19001       POPAYAN  URBANA   \n",
       "4  2003-01-01         11  BOGOTÁ D.C.     11001  BOGOTA, D.C.  URBANA   \n",
       "\n",
       "        SEXO  CANTIDAD  \n",
       "0   FEMENINO         1  \n",
       "1   FEMENINO         1  \n",
       "2   FEMENINO         1  \n",
       "3  MASCULINO         1  \n",
       "4   FEMENINO         7  "
      ]
     },
     "execution_count": 24,
     "metadata": {},
     "output_type": "execute_result"
    }
   ],
   "source": [
    "df2 = pd.read_excel(Archivos+\"/DELITOS_SEXUALES.xlsx\")\n",
    "df2.head()"
   ]
  },
  {
   "cell_type": "code",
   "execution_count": null,
   "metadata": {},
   "outputs": [
    {
     "name": "stdout",
     "output_type": "stream",
     "text": [
      "<class 'pandas.core.frame.DataFrame'>\n",
      "RangeIndex: 241627 entries, 0 to 241626\n",
      "Data columns (total 8 columns):\n",
      " #   Column        Non-Null Count   Dtype         \n",
      "---  ------        --------------   -----         \n",
      " 0   FECHA HECHO   241627 non-null  datetime64[ns]\n",
      " 1   COD_DEPTO     241627 non-null  int64         \n",
      " 2   DEPARTAMENTO  241627 non-null  object        \n",
      " 3   COD_MUNI      241627 non-null  int64         \n",
      " 4   MUNICIPIO     241627 non-null  object        \n",
      " 5   ZONA          241627 non-null  object        \n",
      " 6   SEXO          241183 non-null  object        \n",
      " 7   CANTIDAD      241627 non-null  int64         \n",
      "dtypes: datetime64[ns](1), int64(3), object(4)\n",
      "memory usage: 14.7+ MB\n"
     ]
    }
   ],
   "source": [
    "df2.info()"
   ]
  },
  {
   "cell_type": "code",
   "execution_count": null,
   "metadata": {},
   "outputs": [
    {
     "data": {
      "text/html": [
       "<div>\n",
       "<style scoped>\n",
       "    .dataframe tbody tr th:only-of-type {\n",
       "        vertical-align: middle;\n",
       "    }\n",
       "\n",
       "    .dataframe tbody tr th {\n",
       "        vertical-align: top;\n",
       "    }\n",
       "\n",
       "    .dataframe thead th {\n",
       "        text-align: right;\n",
       "    }\n",
       "</style>\n",
       "<table border=\"1\" class=\"dataframe\">\n",
       "  <thead>\n",
       "    <tr style=\"text-align: right;\">\n",
       "      <th></th>\n",
       "      <th>COD_DEPTO</th>\n",
       "      <th>COD_MUNI</th>\n",
       "      <th>CANTIDAD</th>\n",
       "    </tr>\n",
       "  </thead>\n",
       "  <tbody>\n",
       "    <tr>\n",
       "      <th>count</th>\n",
       "      <td>241627.000000</td>\n",
       "      <td>241627.000000</td>\n",
       "      <td>241627.000000</td>\n",
       "    </tr>\n",
       "    <tr>\n",
       "      <th>mean</th>\n",
       "      <td>40.587194</td>\n",
       "      <td>40860.821527</td>\n",
       "      <td>1.462556</td>\n",
       "    </tr>\n",
       "    <tr>\n",
       "      <th>std</th>\n",
       "      <td>27.288861</td>\n",
       "      <td>27278.377589</td>\n",
       "      <td>1.648521</td>\n",
       "    </tr>\n",
       "    <tr>\n",
       "      <th>min</th>\n",
       "      <td>5.000000</td>\n",
       "      <td>5001.000000</td>\n",
       "      <td>1.000000</td>\n",
       "    </tr>\n",
       "    <tr>\n",
       "      <th>25%</th>\n",
       "      <td>15.000000</td>\n",
       "      <td>15469.000000</td>\n",
       "      <td>1.000000</td>\n",
       "    </tr>\n",
       "    <tr>\n",
       "      <th>50%</th>\n",
       "      <td>41.000000</td>\n",
       "      <td>41306.000000</td>\n",
       "      <td>1.000000</td>\n",
       "    </tr>\n",
       "    <tr>\n",
       "      <th>75%</th>\n",
       "      <td>68.000000</td>\n",
       "      <td>68264.000000</td>\n",
       "      <td>1.000000</td>\n",
       "    </tr>\n",
       "    <tr>\n",
       "      <th>max</th>\n",
       "      <td>99.000000</td>\n",
       "      <td>99773.000000</td>\n",
       "      <td>91.000000</td>\n",
       "    </tr>\n",
       "  </tbody>\n",
       "</table>\n",
       "</div>"
      ],
      "text/plain": [
       "           COD_DEPTO       COD_MUNI       CANTIDAD\n",
       "count  241627.000000  241627.000000  241627.000000\n",
       "mean       40.587194   40860.821527       1.462556\n",
       "std        27.288861   27278.377589       1.648521\n",
       "min         5.000000    5001.000000       1.000000\n",
       "25%        15.000000   15469.000000       1.000000\n",
       "50%        41.000000   41306.000000       1.000000\n",
       "75%        68.000000   68264.000000       1.000000\n",
       "max        99.000000   99773.000000      91.000000"
      ]
     },
     "execution_count": 26,
     "metadata": {},
     "output_type": "execute_result"
    }
   ],
   "source": [
    "df2.describe()"
   ]
  },
  {
   "cell_type": "code",
   "execution_count": null,
   "metadata": {},
   "outputs": [],
   "source": [
    "b = df2.shape"
   ]
  },
  {
   "cell_type": "code",
   "execution_count": null,
   "metadata": {},
   "outputs": [
    {
     "name": "stdout",
     "output_type": "stream",
     "text": [
      "Tenemos 241627 delitos reportados para este dataframe y 8 variables de estos delitos\n"
     ]
    }
   ],
   "source": [
    "print(\"Tenemos \"+str(b[0])+\" delitos reportados para este dataframe y \"+ str(b[1])+\" variables de estos delitos\")"
   ]
  },
  {
   "cell_type": "code",
   "execution_count": null,
   "metadata": {},
   "outputs": [
    {
     "data": {
      "text/plain": [
       "FECHA HECHO       0\n",
       "COD_DEPTO         0\n",
       "DEPARTAMENTO      0\n",
       "COD_MUNI          0\n",
       "MUNICIPIO         0\n",
       "ZONA              0\n",
       "SEXO            444\n",
       "CANTIDAD          0\n",
       "dtype: int64"
      ]
     },
     "execution_count": 27,
     "metadata": {},
     "output_type": "execute_result"
    }
   ],
   "source": [
    "df2.isnull().sum()"
   ]
  },
  {
   "cell_type": "code",
   "execution_count": null,
   "metadata": {},
   "outputs": [
    {
     "data": {
      "image/png": "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",
      "text/plain": [
       "<Figure size 720x432 with 1 Axes>"
      ]
     },
     "metadata": {
      "needs_background": "light"
     },
     "output_type": "display_data"
    }
   ],
   "source": [
    "import matplotlib.pyplot as plt\n",
    "\n",
    "# Replace 'column_name' with the name of the numerical column\n",
    "plt.figure(figsize=(10,6))\n",
    "plt.hist(df2['DEPARTAMENTO'])\n",
    "plt.xticks(rotation='vertical')\n",
    "plt.xlabel('Values')\n",
    "plt.ylabel('Frequency')\n",
    "plt.title('Histograma de Departamento')\n",
    "plt.show()"
   ]
  },
  {
   "cell_type": "code",
   "execution_count": null,
   "metadata": {},
   "outputs": [
    {
     "name": "stdout",
     "output_type": "stream",
     "text": [
      "Los datos recolectados para este dataset vienen desde 2003-01-01 hasta 2023-09-30\n"
     ]
    }
   ],
   "source": [
    "print(\"Los datos recolectados para este dataset vienen desde \"+str(df2[\"FECHA HECHO\"].min().date())+ \" hasta \"+str(df2[\"FECHA HECHO\"].max().date()))"
   ]
  },
  {
   "cell_type": "code",
   "execution_count": null,
>>>>>>> 415145766f57a4b4efa906bb8da04e3d6acfdab9
   "metadata": {},
   "outputs": [],
   "source": []
  }
 ],
 "metadata": {
  "kernelspec": {
   "display_name": "Python 3 (ipykernel)",
   "language": "python",
   "name": "python3"
  },
  "language_info": {
   "codemirror_mode": {
    "name": "ipython",
    "version": 3
   },
   "file_extension": ".py",
   "mimetype": "text/x-python",
   "name": "python",
   "nbconvert_exporter": "python",
   "pygments_lexer": "ipython3",
<<<<<<< HEAD
   "version": "3.9.16"
  }
 },
 "nbformat": 4,
 "nbformat_minor": 5
=======
   "version": "3.8.16"
  }
 },
 "nbformat": 4,
 "nbformat_minor": 4
>>>>>>> 415145766f57a4b4efa906bb8da04e3d6acfdab9
}
