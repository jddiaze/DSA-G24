{
 "cells": [
  {
   "cell_type": "markdown",
   "id": "3a5172f9",
   "metadata": {},
   "source": [
    "# PROYECTO G24  - Entrega Final"
   ]
  },
  {
   "cell_type": "markdown",
   "id": "d94e2403",
   "metadata": {},
   "source": [
    "## Equipo de Trabajo"
   ]
  },
  {
   "cell_type": "markdown",
   "id": "293f3cd9",
   "metadata": {},
   "source": [
    "El equipo de trabajo está conformado por:\n",
    "<ul>\n",
    "<li> Wilson Andrey Lopez Ariza </li>\n",
    "<li> Juan Manuel Guerrero Fonseca </li>\n",
    "<li> Carlos Sebastian Gomez Ortiz </li>\n",
    "<li> Jeison David Díaz Espitia </li>\n",
    "</ul>"
   ]
  },
  {
   "cell_type": "markdown",
   "metadata": {},
   "source": [
    "## Resumen del problema"
   ]
  },
  {
   "cell_type": "markdown",
   "metadata": {},
   "source": [
    "### Contexto del problema"
   ]
  },
  {
   "cell_type": "markdown",
   "metadata": {},
   "source": [
    "La criminalidad en Colombia ha sido una preocupación persistente, a lo largo de las últimas décadas, el país ha enfrentado desafíos significativos en términos de seguridad ciudadana debido a diversos factores socioeconómicos, políticos y culturales.\n",
    "\n",
    "Durante años, Colombia ha luchado contra altas tasas de criminalidad, vinculadas en gran medida a actividades delictivas relacionadas con el narcotráfico, la violencia asociada a grupos armados, la pobreza, la desigualdad social y la falta de oportunidades. Si bien ha habido avances notables en la reducción de algunos tipos de delitos, el problema de la seguridad urbana persiste y varía significativamente entre diferentes ciudades y regiones.\n",
    "\n",
    "Este contexto define un desafío crucial en Colombia: entender la evolución de la violencia e inseguridad en las ciudades principales, ofreciendo la oportunidad de informar políticas públicas y estrategias de prevención del delito que sean más efectivas y estén respaldadas por evidencia empírica."
   ]
  },
  {
   "cell_type": "markdown",
   "metadata": {},
   "source": [
    "### Pregunta de negocio y alcance del proyecto"
   ]
  },
  {
   "cell_type": "markdown",
   "metadata": {},
   "source": [
    "¿Cuáles son las tendencias, variaciones estacionales, diferencias entre ciudades y correlaciones en las tasas de criminalidad de los entre 2003 y 2023 en las 5 principales ciudades (Bogotá, Medellín, Cali, Barranquilla y Cartagena), que permiten identificar patrones y posibles factores explicativos para caracterizar la evolución de la violencia y la inseguridad en las grandes ciudades colombianas durante las últimas dos décadas?"
   ]
  },
  {
   "cell_type": "markdown",
   "metadata": {},
   "source": [
    "El proyecto busca analizar la evolución entre 2003 y 2023 de las tasas de criminalidad en los delitos de homicidio, hurto a personas y comercio, y lesiones personales en las 5 ciudades principales: Bogotá, Medellín, Cali, Barranquilla y Cartagena. \n",
    "    \n",
    "   El objetivo es identificar en estas ciudades las tendencias crecientes o decrecientes en las tasas de criminalidad, sus patrones estacionales y las diferencias entre ellas, para caracterizar y entender mejor el comportamiento de la violencia y la inseguridad urbana en las principales metrópolis colombianas. Esto se logrará mediante el procesamiento estadístico de los registros de criminalidad disponibles."
   ]
  },
  {
   "cell_type": "markdown",
   "metadata": {},
   "source": [
    "### Descripción del conjunto de datos"
   ]
  },
  {
   "cell_type": "markdown",
   "metadata": {},
   "source": [
    "Para nuestro conjunto de datos tenemos 12 archivos xlsx los cuales contienen separados los tipos de delitos y dentro de cada uno se encuentran los registros de los eventos ocurridos, donde estan caracterizados por municipio, departamento, fecha y especificiadad del delito ocurrido. \n",
    "\n",
    "La información es recolectada a partir de archivos en formato xlsx los cuales han sido descargados\n",
    "por los investigadores del proyecto. Los delitos contemplados son los siguientes:\n",
    "1. Homicidios: Hom\n",
    "2. Hurtos a personas: Hper\n",
    "3. Hurtos a residencias: Hres\n",
    "4. Hurtos a comercio: Hcio\n",
    "5. Hurtos a vehículos: Hveh\n",
    "6. Lesiones personales: Les\n",
    "7. Delitos sexuales: Dsex\n",
    "8. Extorsión: Ext\n",
    "9. Violencia intrafamiliar: Vif\n",
    "10. Secuestro: Sec\n",
    "11. Delitos contra el medio ambiente: Dma\n",
    "12. Homicidios en accidentes de tránsito: Homat\n",
    "13. Lesiones en accidentes de tránsito: Lesat\n",
    "\n",
    "Las bases de datos contienen información de los delitos denunciados en los municipios de Colombia,\n",
    "cada archivo representa la cantidad de delitos denunciados entre enero de 2003 y agosto de 2023. La\n",
    "nomenclatura seguida para el almacenamiento de estos archivos es:\n",
    "\n",
    "Nombre_Corto_Delito_2003_2023\n",
    "\n",
    "Donde el campo de nombre corto es remplazado por el nombre corto de cada delito.\n",
    "Adicionalmente, todos estos archivos están almacenados dentro de la carpeta Criminalidad.\n",
    "Los datos de las ciudades de interés vienen en un solo archivo con toda la información.\n",
    "\n",
    "Este es llamado Criminalidad_total.xlsx"
   ]
  },
  {
   "cell_type": "markdown",
   "metadata": {},
   "source": [
    "## Modelos desarrollados y su evaluación"
   ]
  },
  {
   "cell_type": "markdown",
   "metadata": {},
   "source": [
    "En el repositorio https://github.com/jddiaze/DSA-G24 se puede evidenciar el código de los modelos desarrollados.\n",
    "\n",
    "Es importante poder predecir si el índice de homicidios aumentará o bajará en cada departamento de Colombia por varias razones:\n",
    "\n",
    "* Permite focalizar recursos y programas de seguridad de manera preventiva en las zonas con mayor probabilidad de aumento en la tasa de homicidios. Esto optimiza la asignación de presupuesto.\n",
    "* Las autoridades pueden comunicar y preparar a la ciudadanía y fuerza pública ante los posibles cambios esperados en los índices delictivos. Esto mejora reacción ante incrementos de violencia.\n",
    "* El análisis predictivo facilita evaluar el impacto real de políticas públicas actuales y pasadas, y reorientar las estrategias de reducción de violencia de manera oportuna y evidenciada.\n",
    "* Los resultados de los modelos predictivos permiten estimar necesidades futuras de talento humano, programas sociales y recursos en el sector seguridad por región.\n",
    "* La predicción de homicidios brinda insumos planificación en otros campos como el sector salud, para proyectar necesidades de talento médico o infraestructura hospitalaria derivadas del posible aumento en tasas lesividad.\n",
    "* El análisis predictivo de homicidios salva vidas al permitir mayor preparación, eficiencia del gasto público y evaluación evidenciada de política criminal a nivel regional.\n"
   ]
  },
  {
   "cell_type": "markdown",
   "metadata": {},
   "source": [
    "### Modelos desarrollados y su evaluación\n",
    "El objetivo del modelo será predecir si la cantidad de homicidios va a aumentar o disminuir en función de diversas características como el departamento, municipio, sexo y zona. El modelo de clasificación se entrena con datos históricos para identificar patrones que puedan relacionarse con cambios en la cantidad de homicidios, con la finalidad de anticipar si esa cantidad se incrementará (1) o disminuirá (0) en futuros periodos. Esto puede ser útil para anticipar tendencias en la incidencia de homicidios y, en consecuencia, para la planificación de medidas preventivas o de respuesta por parte de autoridades o entidades pertinentes."
   ]
  },
  {
   "cell_type": "markdown",
   "metadata": {},
   "source": [
    "### Despliegue del modelo\n",
    "El modelo se despliega en AWS, en una máquina virtual Ubuntu, donde se conecta desde una terminal de forma local por medio de una llave. ´\n",
    "\n",
    "Antes de usar la máquina virtual, se decide comprobar y correr en local el contenedor usando la versión de Docker Desktop, y ya teniendo las pruebas se instala Docker en la máquina virtual, se clona el repositorio con los documentos de Docker y .sh principalmente que servirán para ejecutar el modelo en la nube.\n",
    "\n",
    "Cuando ya está corriendo el modelo en la nube, realizando una previa apertura de los puertos en la sección de seguridad de AWS, se comprueba de dos maneras:\n",
    "\n",
    "1. Desde un navegador y el docs que ofrece FastAPI.\n",
    "2. Desde Postman enviando como cuerpo un json con las variables necesarias.\n",
    "\n",
    "Para ambos casos se puede tener una ejecución como la que se muestra a continuación:\n",
    "\n",
    "![6.png](img/docker/6.png)"
   ]
  },
  {
   "cell_type": "markdown",
   "metadata": {},
   "source": [
    "## Principales resultados"
   ]
  },
  {
   "cell_type": "markdown",
   "metadata": {},
   "source": [
    "**Bajar:** El modelo ha predicho que la cantidad de homicidios disminuirá en 40,975 casos.\n",
    "\n",
    "\n",
    "**Subir:** El modelo ha predicho que la cantidad de homicidios aumentará en 3,781 casos.\n",
    "\n",
    "\n",
    "**Exactitud (Accuracy):**\n",
    "El modelo tiene una exactitud del 88.36%. Esto significa que el 88.36% de sus predicciones son correctas en el conjunto de datos.\n",
    "\n",
    "\n",
    "**Precision, Recall y F1-Score:**\n",
    "\n",
    "Precision: Del total de casos que el modelo ha predicho como \"Subir\", el 75% realmente experimentaron un aumento en la cantidad de homicidios.\n",
    "\n",
    "Recall: De todos los casos reales de aumento, el modelo ha logrado capturar el 41%. Puede haber margen de mejora aquí.\n",
    "\n",
    "F1-Score: El F1-Score es una métrica que combina precisión y recall, proporcionando una visión equilibrada.\n",
    "Soporte (Support):Hay 37,593 casos de la clase \"Bajar\" y 7,163 casos de la clase \"Subir\" en el conjunto de datos.\n",
    "\n",
    "\n",
    "El modelo tiene una buena exactitud general, pero hay áreas donde podría mejorar, especialmente en la identificación de casos de aumento de homicidios. Se podría considerar ajustar los hiperparámetros o explorar otras técnicas para mejorar el rendimiento."
   ]
  },
  {
   "cell_type": "markdown",
   "metadata": {},
   "source": [
    "## Video\n",
    "El link del video explicativo se puede encontrar en: https://youtu.be/kXu1QrBrPDE"
   ]
  },
  {
   "cell_type": "markdown",
   "metadata": {},
   "source": [
    "## Conclusiones\n",
    "\n",
    "Se puede concluir que en las principales ciudades el incremento de la criminalidad es latente, por ejemplo los departamentos de Antioquia y Bogotá son los más afectados por delitos, principalmente homicidios de acuerdo al análisis exploratorio y a la interacción con el modelo.\n",
    "\n",
    "Adicional, es importante contar con un modelo en la nube que permita que los usuarios puedan interactuar y así definir por medio de peticiones tipo POST en donde se pueden presentar delitos como homocidio.\n",
    "\n",
    "Finalmente, el modelo de Random Forest fue el mejor modelo que tuvo la capacidad de representar adecuadamente el comportamiento de homicidio en las principales ciudades."
   ]
  },
  {
   "cell_type": "markdown",
   "metadata": {},
   "source": [
    "## Reporte de trabajo en equipo"
   ]
  },
  {
   "cell_type": "markdown",
   "metadata": {},
   "source": [
    "**Juan** - Se encargó de realizar el tablero junto con la descripción y funcionalidad.\n",
    "\n",
    "**Carlos** - Se encargó de consolidar el código de los modelos en MLFlow, usando una máquina virtual y realizando experimentos los cuales se encuentran en la sección de MLFlow del presente documento.\n",
    "\n",
    "**David** - Se encargó del despliegue del modelo y la creación de la API por medio de un contenedor y luego su ejecución desde una máquina virtual de AWS.\n",
    "\n",
    "**Wilson** – Realizar los modelos seleccionando los mejores hiperparámetros para cada caso y realizó un resumen con las métricas para cada caso."
   ]
  }
 ],
 "metadata": {
  "kernelspec": {
   "display_name": "Python 3 (ipykernel)",
   "language": "python",
   "name": "python3"
  },
  "language_info": {
   "codemirror_mode": {
    "name": "ipython",
    "version": 3
   },
   "file_extension": ".py",
   "mimetype": "text/x-python",
   "name": "python",
   "nbconvert_exporter": "python",
   "pygments_lexer": "ipython3",
   "version": "3.8.16"
  }
 },
 "nbformat": 4,
 "nbformat_minor": 5
}
